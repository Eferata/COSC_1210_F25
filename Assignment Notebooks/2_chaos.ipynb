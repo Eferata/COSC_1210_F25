{
 "cells": [
  {
   "cell_type": "markdown",
   "id": "09b41502",
   "metadata": {
    "vscode": {
     "languageId": "plaintext"
    }
   },
   "source": [
    "## COSC 1210\n",
    "### print(), input(), value storage and chaos\n",
    "\n",
    "Objectives\n",
    "- use the chaos function to illustrate the importance of value storage"
   ]
  },
  {
   "cell_type": "code",
   "execution_count": null,
   "id": "3034fc71",
   "metadata": {},
   "outputs": [],
   "source": []
  },
  {
   "cell_type": "code",
   "execution_count": 3,
   "id": "b6e1cd88",
   "metadata": {},
   "outputs": [
    {
     "name": "stdout",
     "output_type": "stream",
     "text": [
      "0.9999999999999998\n"
     ]
    }
   ],
   "source": [
    "\n",
    "def main():\n",
    "    a = 1/7\n",
    "    b = a + a + a+ a + a+ a + a\n",
    "    print(b)\n",
    "main()\n"
   ]
  },
  {
   "cell_type": "markdown",
   "id": "b7800a95",
   "metadata": {},
   "source": [
    "##### Explain why the function above provides an answer that is different than the algebraic solution\n"
   ]
  },
  {
   "cell_type": "markdown",
   "id": "d9275319",
   "metadata": {},
   "source": [
    "because the computer doesn't round up the numbers 1/7 it adds them with all the 0.9999... "
   ]
  },
  {
   "cell_type": "code",
   "execution_count": 7,
   "id": "419c95e4",
   "metadata": {},
   "outputs": [
    {
     "name": "stdout",
     "output_type": "stream",
     "text": [
      "b is 1.0\n",
      "c is 0.9999999999999998\n",
      "2.220446049250313e-16\n"
     ]
    }
   ],
   "source": [
    "def main():\n",
    "    a = 1/7\n",
    "    b = a * 7 #this ahs a builtn rounding :(\n",
    "    c = a + a + a + a + a + a + a #addition it doesn't do the rounding\n",
    "    print(\"b is\", b)\n",
    "    print(\"c is\", c)\n",
    "    print(b-c)\n",
    "main()"
   ]
  },
  {
   "cell_type": "markdown",
   "id": "45e9d1a1",
   "metadata": {},
   "source": [
    "##### Explain why b and c provide different answers\n",
    "\n",
    "\n",
    "\n",
    "##### How large is the difference between c and b?\n",
    "\n",
    "\n"
   ]
  },
  {
   "cell_type": "markdown",
   "id": "9fc5b990",
   "metadata": {},
   "source": [
    "- for b the computer uses the approximation because the multiplicatin has a builtn rounding system. While in C the computer uses the stored informatin for 1/7 which is 0.1428... to avoid any errors.\n",
    "- the difference between c and b is that b is the approximation and c is the exact value but there is no large difference betweeen the two.\n",
    "\n"
   ]
  },
  {
   "cell_type": "markdown",
   "id": "e069c8b6",
   "metadata": {},
   "source": []
  },
  {
   "cell_type": "markdown",
   "id": "763a111c",
   "metadata": {},
   "source": [
    "### rounding floats\n",
    "Mathematically, what will be the value of b?\n",
    "When calculated by python, what is the value of b?"
   ]
  },
  {
   "cell_type": "code",
   "execution_count": 10,
   "id": "704054ee",
   "metadata": {},
   "outputs": [
    {
     "name": "stdout",
     "output_type": "stream",
     "text": [
      "This program illustrates a chaotic function\n",
      "For 10 iterations, x1 is: 0.9735732406265619\n"
     ]
    }
   ],
   "source": [
    "def main():\n",
    "    print(\"This program illustrates a chaotic function\")\n",
    "    iterations = 10\n",
    "    x1 = 0.15\n",
    "    for i in range(iterations): # i is just a counter here\n",
    "        x1 = 3.9 * x1 * (1 - x1)\n",
    "    print(\"For\", iterations, \"iterations, x1 is:\", x1)\n",
    "main()"
   ]
  },
  {
   "cell_type": "markdown",
   "id": "335eda4a",
   "metadata": {},
   "source": [
    "##### If you calculate x1 for 10 iterations vs 100 iterations, what answers do you get?\n",
    "\n",
    "for 10 iterations: 0.9735732406265619\n",
    "\n",
    "for 100 iterations: 0.5126527786207501\n",
    "\n",
    "##### Why are these different?\n",
    "\n",
    "different variable! the number changes each time through the calculation"
   ]
  },
  {
   "cell_type": "code",
   "execution_count": null,
   "id": "2b07c024",
   "metadata": {},
   "outputs": [],
   "source": [
    "def main():\n",
    "    print(\"This program illustrates a chaotic function\")\n",
    "    iterations = 10\n",
    "    x1 = 0.15\n",
    "    x2 = 0.15\n",
    "    for i in range(iterations):\n",
    "        x1 = 3.9 * x1 * (1 - x1)\n",
    "        x2 = 3.9 * (x2 - x2 * x2)\n",
    "    print(\"For\", iterations, \"iternations, x1 is now\", x1, \"and x2 is now\", x2)\n",
    "main()"
   ]
  },
  {
   "cell_type": "markdown",
   "id": "2d137bda",
   "metadata": {},
   "source": [
    "##### If you calculate x1 and x2 for 10 iterations vs 100 iterations, what answers do you get?\n",
<<<<<<< Updated upstream
<<<<<<< Updated upstream
    "\n",
    "x1 10 iterations: \n",
    "\n",
=======
    "x1 10 iterations: 0.9735732406265619\n",
>>>>>>> Stashed changes
=======
    "x1 10 iterations: 0.9735732406265619\n",
>>>>>>> Stashed changes
    "x2 10 iterations: \n",
    "\n",
    "\n",
    "\n",
    "x1 100 iterations:\n",
    "\n",
    "x2 100 iterations:\n",
    "\n",
    "##### Why are these different?"
   ]
  },
  {
   "cell_type": "code",
   "execution_count": 14,
   "id": "463cb691",
   "metadata": {},
   "outputs": [
    {
     "name": "stdout",
     "output_type": "stream",
     "text": [
      "This program illustrates a chaotic function\n"
     ]
    },
    {
     "ename": "UnboundLocalError",
     "evalue": "cannot access local variable 'x1' where it is not associated with a value",
     "output_type": "error",
     "traceback": [
      "\u001b[31m---------------------------------------------------------------------------\u001b[39m",
      "\u001b[31mUnboundLocalError\u001b[39m                         Traceback (most recent call last)",
      "\u001b[36mCell\u001b[39m\u001b[36m \u001b[39m\u001b[32mIn[14]\u001b[39m\u001b[32m, line 10\u001b[39m\n\u001b[32m      8\u001b[39m         x2 = \u001b[32m39\u001b[39m * (x2 - x2 * x2)\n\u001b[32m      9\u001b[39m     \u001b[38;5;28mprint\u001b[39m(\u001b[33m\"\u001b[39m\u001b[33mFor\u001b[39m\u001b[33m\"\u001b[39m, iterations, \u001b[33m\"\u001b[39m\u001b[33miterations, x1 is:\u001b[39m\u001b[33m\"\u001b[39m, x1 \u001b[38;5;129;01mand\u001b[39;00m x2 \u001b[38;5;129;01mis\u001b[39;00m now, x2)\n\u001b[32m---> \u001b[39m\u001b[32m10\u001b[39m \u001b[43mmain\u001b[49m\u001b[43m(\u001b[49m\u001b[43m)\u001b[49m\n",
      "\u001b[36mCell\u001b[39m\u001b[36m \u001b[39m\u001b[32mIn[14]\u001b[39m\u001b[32m, line 7\u001b[39m, in \u001b[36mmain\u001b[39m\u001b[34m()\u001b[39m\n\u001b[32m      5\u001b[39m x2 = \u001b[32m0.15\u001b[39m\n\u001b[32m      6\u001b[39m \u001b[38;5;28;01mfor\u001b[39;00m i \u001b[38;5;129;01min\u001b[39;00m \u001b[38;5;28mrange\u001b[39m(iterations): \u001b[38;5;66;03m# i is just a counter here\u001b[39;00m\n\u001b[32m----> \u001b[39m\u001b[32m7\u001b[39m     x1 = \u001b[32m3.9\u001b[39m * \u001b[43mx1\u001b[49m * (\u001b[32m1\u001b[39m - x1)\n\u001b[32m      8\u001b[39m     x2 = \u001b[32m39\u001b[39m * (x2 - x2 * x2)\n\u001b[32m      9\u001b[39m \u001b[38;5;28mprint\u001b[39m(\u001b[33m\"\u001b[39m\u001b[33mFor\u001b[39m\u001b[33m\"\u001b[39m, iterations, \u001b[33m\"\u001b[39m\u001b[33miterations, x1 is:\u001b[39m\u001b[33m\"\u001b[39m, x1 \u001b[38;5;129;01mand\u001b[39;00m x2 \u001b[38;5;129;01mis\u001b[39;00m now, x2)\n",
      "\u001b[31mUnboundLocalError\u001b[39m: cannot access local variable 'x1' where it is not associated with a value"
     ]
    }
   ],
   "source": [
    "### Rewrite the chaos function so that the use can enter x\n",
    "def main():\n",
    "    print(\"This program illustrates a chaotic function\")\n",
    "    iterations = 10\n",
    "    x2 = 0.15\n",
    "    for i in range(iterations): # i is just a counter here\n",
    "        x1 = 3.9 * x1 * (1 - x1)\n",
    "        x2 = 39 * (x2 - x2 * x2)\n",
    "    print(\"For\", iterations, \"iterations, x1 is:\", x1 and x2 is now, x2)\n",
    "main()"
   ]
  }
 ],
 "metadata": {
  "kernelspec": {
   "display_name": "Python 3",
   "language": "python",
   "name": "python3"
  },
  "language_info": {
   "codemirror_mode": {
    "name": "ipython",
    "version": 3
   },
   "file_extension": ".py",
   "mimetype": "text/x-python",
   "name": "python",
   "nbconvert_exporter": "python",
   "pygments_lexer": "ipython3",
   "version": "3.13.2"
  }
 },
 "nbformat": 4,
 "nbformat_minor": 5
}
