{
 "cells": [
  {
   "cell_type": "markdown",
   "id": "6bd64481",
   "metadata": {},
   "source": [
    "#### Selections and Looping"
   ]
  },
  {
   "cell_type": "code",
   "execution_count": null,
   "id": "24bc17b6",
   "metadata": {},
   "outputs": [],
   "source": []
  }
 ],
 "metadata": {
  "language_info": {
   "name": "python"
  }
 },
 "nbformat": 4,
 "nbformat_minor": 5
}
