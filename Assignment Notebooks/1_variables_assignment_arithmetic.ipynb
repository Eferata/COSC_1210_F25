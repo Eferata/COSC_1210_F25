{
 "cells": [
  {
   "cell_type": "markdown",
   "id": "bacdc7bd",
   "metadata": {},
   "source": [
    "## COSC 1210\n",
    "### Variables, Assignment, Arithmetic\n",
    "- UNDER CONSTRUCTION"
   ]
  },
  {
   "cell_type": "code",
   "execution_count": 3,
   "id": "2b45b592",
   "metadata": {},
   "outputs": [],
   "source": [
    "# Variables"
   ]
  },
  {
   "cell_type": "code",
   "execution_count": 4,
   "id": "eb0359da",
   "metadata": {},
   "outputs": [],
   "source": [
    "# Assignment"
   ]
  },
  {
   "cell_type": "code",
   "execution_count": 5,
   "id": "fb08ecb6",
   "metadata": {},
   "outputs": [],
   "source": [
    "# Arithmetic"
   ]
  },
  {
   "cell_type": "markdown",
   "id": "77ae01b8",
   "metadata": {},
   "source": [
    "#### Four Fours\n",
    "\n",
    "Calculate the numbers 0 to 10 with four number 4s. You must include four fours, and only four fours\n",
    "\n",
    "e.g., \n",
    "\n",
    "print(4 + 4 - 4 + 4, \" is 0\") # this is correct!\n",
    "\n",
    "print(4 - 4, \" is 0\") # incorrect! You only used two fours\n"
   ]
  },
  {
   "cell_type": "code",
   "execution_count": 6,
   "id": "e55221cf",
   "metadata": {},
   "outputs": [],
   "source": [
    "# Four Fours"
   ]
  }
 ],
 "metadata": {
  "kernelspec": {
   "display_name": "base",
   "language": "python",
   "name": "python3"
  },
  "language_info": {
   "codemirror_mode": {
    "name": "ipython",
    "version": 3
   },
   "file_extension": ".py",
   "mimetype": "text/x-python",
   "name": "python",
   "nbconvert_exporter": "python",
   "pygments_lexer": "ipython3",
   "version": "3.12.2"
  }
 },
 "nbformat": 4,
 "nbformat_minor": 5
}
