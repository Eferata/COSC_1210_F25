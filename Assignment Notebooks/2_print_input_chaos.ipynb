{
 "cells": [
  {
   "cell_type": "markdown",
   "id": "09b41502",
   "metadata": {
    "vscode": {
     "languageId": "plaintext"
    }
   },
   "source": [
    "## COSC 1210\n",
    "### print(), input(), value storage and chaos\n",
    "\n",
    "Objectives\n",
    "- use help to find parameters for built-in functions\n",
    "- use print() debugging\n",
    "- get user input()\n",
    "- discuss variable types (string, integer, float)\n",
    "- discuss how large values and decimals are stored\n",
    "- use the chaos function to illustrate the importance of value storage"
   ]
  },
  {
   "cell_type": "markdown",
   "id": "8e238673",
   "metadata": {},
   "source": [
    "### help()\n",
    "help() is a function that provides the usage for built-in functions\n",
    "\n",
    "function_name(parameters, defaults, etc...)"
   ]
  },
  {
   "cell_type": "code",
   "execution_count": null,
   "id": "77d48f3c",
   "metadata": {},
   "outputs": [],
   "source": [
    "# Run this cell and type the function you want help on into the dialogue box\n",
    "help()"
   ]
  },
  {
   "cell_type": "code",
   "execution_count": null,
   "id": "050bcb84",
   "metadata": {},
   "outputs": [],
   "source": [
    "# Or you can put the function name into the parentheses\n",
    "help(print)"
   ]
  },
  {
   "cell_type": "markdown",
   "id": "879e6129",
   "metadata": {},
   "source": [
    "### print() usage\n",
    "\n",
    "* How do you separate different values you want to print?\n",
    "each argument is separated by a comma like print(vali, vali2..)\n",
    "* How are different values separated?\n",
    "\n",
    "* How are different lines separated?"
   ]
  },
  {
   "cell_type": "code",
   "execution_count": 2,
   "id": "c493be3c",
   "metadata": {},
   "outputs": [
    {
     "name": "stdout",
     "output_type": "stream",
     "text": [
      "1 2 3\n",
      "1+2+3\n"
     ]
    }
   ],
   "source": [
    "# Multiple arguments and the default character that separates them\n",
    "print(1,2,3)\n",
    "print(1,2,3, sep = \"+\")"
   ]
  },
  {
   "cell_type": "code",
   "execution_count": null,
   "id": "8ef65993",
   "metadata": {},
   "outputs": [],
   "source": [
    "# line endings\n",
    "print(1,2,3)\n",
    "print(4,5,6, end = \" && \")\n",
    "print(7,8,9)"
   ]
  },
  {
   "cell_type": "markdown",
   "id": "e5add34a",
   "metadata": {},
   "source": [
    "#### Important note\n",
    "From now on, we will put all our code in a function. By default, all code will go into main()."
   ]
  },
  {
   "cell_type": "raw",
   "id": "a9879bc2",
   "metadata": {
    "vscode": {
     "languageId": "raw"
    }
   },
   "source": [
    "def main():         # define the function main\n",
    "    ''' explain what's happening in this function in a docstring'''\n",
    "    body\n",
    "    body\n",
    "    body\n",
    "main()              # call the function main"
   ]
  },
  {
   "cell_type": "markdown",
   "id": "6161d959",
   "metadata": {},
   "source": [
    "### print() for debugging\n",
    "\n",
    "* indentation matters\n",
    "* provide a string as an argument to keep track of what you're printing\n",
    "* follow-up with hashtag when you find your error!\n",
    "* do not delete old code - save it with annotations"
   ]
  },
  {
   "cell_type": "code",
   "execution_count": 5,
   "id": "e7789978",
   "metadata": {},
   "outputs": [
    {
     "name": "stdout",
     "output_type": "stream",
     "text": [
      "num is 10\n",
      "i is 0\n",
      "num is 11\n",
      "i is 1\n",
      "num is 13\n",
      "i is 2\n",
      "num is 16\n",
      "i is 3\n",
      "num is 20\n",
      "i is 4\n",
      "num is 25\n",
      "i is 5\n",
      "num is 31\n",
      "i is 6\n",
      "num is 38\n",
      "i is 7\n",
      "num is 46\n",
      "i is 8\n",
      "num is 55\n",
      "i is 9\n"
     ]
    }
   ],
   "source": [
    "def main():\n",
    "    '''using print to determine the output'''\n",
    "    # What is the solution?\n",
    "    num = 10\n",
    "    for i in range(10):\n",
    "        num = num + i\n",
    "        print(\"num is\", num)\n",
    "        print(\"i is\", i)\n",
    "main()"
   ]
  },
  {
   "cell_type": "code",
   "execution_count": null,
   "id": "9c06f596",
   "metadata": {},
   "outputs": [],
   "source": [
    "def main():\n",
    "    '''using print to determine how parts of the program work'''\n",
    "    # what does the range() function do?\n",
    "    # how is i changing? how is num changing?\n",
    "    num = 10\n",
    "    for i in range(10):\n",
    "        num = num + i\n",
    "    print(num)\n",
    "main()"
   ]
  },
  {
   "cell_type": "code",
   "execution_count": null,
   "id": "af1ac6d1",
   "metadata": {},
   "outputs": [],
   "source": [
    "def main():\n",
    "    '''what happens when the print statement is on different lines of indentation?'''\n",
    "    # indentation matters\n",
    "    num = 10\n",
    "    for i in range(10):\n",
    "        num = num + i\n",
    "    print(num)\n",
    "main()"
   ]
  },
  {
   "cell_type": "code",
   "execution_count": 15,
   "id": "915b8f2a",
   "metadata": {},
   "outputs": [
    {
     "name": "stdout",
     "output_type": "stream",
     "text": [
      "fact is 5\n",
      "i is 5\n",
      "fact is 20\n",
      "i is 4\n",
      "fact is 60\n",
      "i is 3\n",
      "fact is 120\n",
      "i is 2\n",
      "the factorial of 5 is 120\n"
     ]
    }
   ],
   "source": [
    "# use print() to determine why this does not give the correct answer...\n",
    "\n",
    "def calc_factorial(x):\n",
    "    '''input: integer x\n",
    "    process: calculate factorial\n",
    "    output: return the factorial of x'''\n",
    "    fact = 1\n",
    "    for i in range(x,1,-1):\n",
    "        fact = fact * i\n",
    "        print(\"fact is\", fact)\n",
    "        print(\"i is\", i)\n",
    "    return fact\n",
    "\n",
    "\n",
    "def main():\n",
    "    '''demonstrating print debugging with factorials'''\n",
    "    n = 5\n",
    "    print(\"the factorial of\", n, \"is\",calc_factorial(n))\n",
    "main()"
   ]
  },
  {
   "cell_type": "code",
   "execution_count": 8,
   "id": "57a24513",
   "metadata": {},
   "outputs": [
    {
     "name": "stdout",
     "output_type": "stream",
     "text": [
      "Help on class range in module builtins:\n",
      "\n",
      "class range(object)\n",
      " |  range(stop) -> range object\n",
      " |  range(start, stop[, step]) -> range object\n",
      " |\n",
      " |  Return an object that produces a sequence of integers from start (inclusive)\n",
      " |  to stop (exclusive) by step.  range(i, j) produces i, i+1, i+2, ..., j-1.\n",
      " |  start defaults to 0, and stop is omitted!  range(4) produces 0, 1, 2, 3.\n",
      " |  These are exactly the valid indices for a list of 4 elements.\n",
      " |  When step is given, it specifies the increment (or decrement).\n",
      " |\n",
      " |  Methods defined here:\n",
      " |\n",
      " |  __bool__(self, /)\n",
      " |      True if self else False\n",
      " |\n",
      " |  __contains__(self, key, /)\n",
      " |      Return bool(key in self).\n",
      " |\n",
      " |  __eq__(self, value, /)\n",
      " |      Return self==value.\n",
      " |\n",
      " |  __ge__(self, value, /)\n",
      " |      Return self>=value.\n",
      " |\n",
      " |  __getattribute__(self, name, /)\n",
      " |      Return getattr(self, name).\n",
      " |\n",
      " |  __getitem__(self, key, /)\n",
      " |      Return self[key].\n",
      " |\n",
      " |  __gt__(self, value, /)\n",
      " |      Return self>value.\n",
      " |\n",
      " |  __hash__(self, /)\n",
      " |      Return hash(self).\n",
      " |\n",
      " |  __iter__(self, /)\n",
      " |      Implement iter(self).\n",
      " |\n",
      " |  __le__(self, value, /)\n",
      " |      Return self<=value.\n",
      " |\n",
      " |  __len__(self, /)\n",
      " |      Return len(self).\n",
      " |\n",
      " |  __lt__(self, value, /)\n",
      " |      Return self<value.\n",
      " |\n",
      " |  __ne__(self, value, /)\n",
      " |      Return self!=value.\n",
      " |\n",
      " |  __reduce__(self, /)\n",
      " |      Helper for pickle.\n",
      " |\n",
      " |  __repr__(self, /)\n",
      " |      Return repr(self).\n",
      " |\n",
      " |  __reversed__(self, /)\n",
      " |      Return a reverse iterator.\n",
      " |\n",
      " |  count(self, object, /)\n",
      " |      rangeobject.count(value) -> integer -- return number of occurrences of value\n",
      " |\n",
      " |  index(self, object, /)\n",
      " |      rangeobject.index(value) -> integer -- return index of value.\n",
      " |      Raise ValueError if the value is not present.\n",
      " |\n",
      " |  ----------------------------------------------------------------------\n",
      " |  Static methods defined here:\n",
      " |\n",
      " |  __new__(*args, **kwargs)\n",
      " |      Create and return a new object.  See help(type) for accurate signature.\n",
      " |\n",
      " |  ----------------------------------------------------------------------\n",
      " |  Data descriptors defined here:\n",
      " |\n",
      " |  start\n",
      " |\n",
      " |  step\n",
      " |\n",
      " |  stop\n",
      "\n"
     ]
    }
   ],
   "source": [
    "help(range)"
   ]
  },
  {
   "cell_type": "markdown",
   "id": "3bdec4cf",
   "metadata": {},
   "source": [
    "### value types\n",
    "\n",
    "A value type is the specific data classification for a piece of information. The type determines what operations can be performed on it\n",
    "\n",
    "**Numeric Types**\n",
    "* integer (int)\n",
    "* float (float)\n",
    "\n",
    "**Text Type**\n",
    "* string (str)\n",
    "\n",
    "**Boolean Type**\n",
    "* boolean (bool)\n",
    "\n",
    "*We will cover Sequence Types, None Type, and Mapping Type later this semester*"
   ]
  },
  {
   "cell_type": "code",
   "execution_count": null,
   "id": "e36804de",
   "metadata": {},
   "outputs": [],
   "source": [
    "def main():\n",
    "    # operators for Numeric Types are straigtforward\n",
    "    print(5+5)\n",
    "    print(5.0+5.0)\n",
    "\n",
    "    an_int = 5 + 5\n",
    "    a_float = 5.0 + 5.0\n",
    "\n",
    "    # Use the type() function to figure out what type\n",
    "    print(type(an_int))\n",
    "    print(type(a_float))\n",
    "main()"
   ]
  },
  {
   "cell_type": "code",
   "execution_count": null,
   "id": "05f0042c",
   "metadata": {},
   "outputs": [],
   "source": [
    "def main():\n",
    "    # operators for strings are different\n",
    "    # + is concatenation\n",
    "    print(\"5\"+\"5\")\n",
    "    # * is repetition\n",
    "    print(\"5\"*\"5\")\n",
    "main()"
   ]
  },
  {
   "cell_type": "markdown",
   "id": "6a487f9b",
   "metadata": {},
   "source": [
    "### input()\n",
    "Getting information from the user\n",
    "\n",
    "* What are the parameters if input()? \n"
   ]
  },
  {
   "cell_type": "code",
   "execution_count": null,
   "id": "fe698be0",
   "metadata": {},
   "outputs": [],
   "source": [
    "def multiply_use_num_by_five():\n",
    "    '''demonstrating input()'''\n",
    "    user_answer = input(\"enter a number \")\n",
    "    print(user_answer * 5)\n",
    "multiply_use_num_by_five()"
   ]
  },
  {
   "cell_type": "markdown",
   "id": "5ffb1be3",
   "metadata": {},
   "source": [
    "### Type Conversions\n",
    "\n",
    "str() # convert a numeric into a string\n",
    "\n",
    "int() # convert a float into an integer\n",
    "\n",
    "float() # convert an integer into a float\n",
    "\n",
    "eval() # convert a string into the type that most makes sense...\n",
    "* eval(\"5.5\") - converted to a float\n",
    "* eval(\"5\") - converted to an integer "
   ]
  },
  {
   "cell_type": "code",
   "execution_count": null,
   "id": "60531764",
   "metadata": {},
   "outputs": [],
   "source": [
    "# how do we change this to multiply the user number by 5\n",
    "def multiply_use_num_by_five():\n",
    "    '''demonstrating input()'''\n",
    "    user_answer = input(\"enter a number \")\n",
    "    print(user_answer * 5)\n",
    "\n",
    "def main():\n",
    "    multiply_use_num_by_five()\n",
    "main()"
   ]
  },
  {
   "cell_type": "code",
   "execution_count": null,
   "id": "2c90adb4",
   "metadata": {},
   "outputs": [],
   "source": [
    "# Complete notebook 2_chaos.ipynb, and submit on Canvas as instructed"
   ]
  }
 ],
 "metadata": {
  "kernelspec": {
   "display_name": "Python 3",
   "language": "python",
   "name": "python3"
  },
  "language_info": {
   "codemirror_mode": {
    "name": "ipython",
    "version": 3
   },
   "file_extension": ".py",
   "mimetype": "text/x-python",
   "name": "python",
   "nbconvert_exporter": "python",
   "pygments_lexer": "ipython3",
   "version": "3.13.2"
  }
 },
 "nbformat": 4,
 "nbformat_minor": 5
}
