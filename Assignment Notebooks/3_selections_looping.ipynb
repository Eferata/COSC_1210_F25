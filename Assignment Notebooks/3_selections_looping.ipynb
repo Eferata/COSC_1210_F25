{
 "cells": [
  {
   "cell_type": "markdown",
   "id": "6bd64481",
   "metadata": {},
   "source": [
    "#### Selections and Looping"
   ]
  },
  {
   "cell_type": "markdown",
   "id": "24bc17b6",
   "metadata": {},
   "source": [
    "Objectives\n",
    "- decide whether to execute actions with if, if..elif..else, and if..else\n",
    "- execute statements repeatedly with for and while\n",
    "- use augmented assignment\n",
    "- use the range function and its parameters\n",
    "- perform sentinel control in a while loop\n",
    "- distinguish top-down and bottom-up problem solving\n",
    "- create complex conditionals\n",
    "- stop looping with break and force next iteration with continue"
   ]
  },
  {
   "cell_type": "raw",
   "id": "69301c8f",
   "metadata": {
    "vscode": {
     "languageId": "raw"
    }
   },
   "source": [
    "if, if/else, if/elif/else\n",
    "\n",
    "Selections in python\n",
    "if <conditional>:\n",
    "    statement\n",
    "else: \n",
    "    statement\n",
    "\n",
    "if <conditional>:\n",
    "    statement\n",
    "elif <conditional>:\n",
    "    statement\n",
    "elif <conditional>\"\n",
    "    statement\n",
    "else:\n",
    "    statement\n"
   ]
  },
  {
   "cell_type": "code",
   "execution_count": 2,
   "id": "c8cae2fa",
   "metadata": {},
   "outputs": [
    {
     "name": "stdout",
     "output_type": "stream",
     "text": [
      "A\n"
     ]
    }
   ],
   "source": [
    "# if, if/else, if/elif/else\n",
    "def main():\n",
    "    '''ask use for a grade and provide the letter grade that is associated'''\n",
    "    grade = eval(input(\"enter the student grade\"))\n",
    "    if grade >= 90:\n",
    "        print(\"A\")\n",
    "main()\n",
    "    "
   ]
  },
  {
   "cell_type": "code",
   "execution_count": null,
   "id": "a5bb9098",
   "metadata": {},
   "outputs": [
    {
     "name": "stdout",
     "output_type": "stream",
     "text": [
      "scissors\n",
      "you win rock sicrssors\n"
     ]
    }
   ],
   "source": [
    "# write a program that determines the result of a rock paper scissors game\n",
    "# use the random_throw() function to get a random choice of rock paper scissors from the computer\n",
    "# \n",
    "import random as rand\n",
    "\n",
    "def random_throw():\n",
    "    '''selects a random item from rock, paper, scissors\n",
    "    returns string to user''' \n",
    "    choices = ['rock', 'paper', 'scissors']\n",
    "    return rand.choice(choices)\n",
    "\n",
    "print(random_throw()) # successful test random_throw()\n",
    "\n",
    "# so the above code is a library called random which allows the computer to randomly choose among the choices it was given. \n",
    "\n",
    "def main():\n",
    "    '''rock paper scissors'''\n",
    "    computer_choice = random_throw()\n",
    "    user_choice = input(\"enetr rock paper or scissors\")\n",
    "    if computer_choice == user_choice:\n",
    "        print(\"tie tou both chose\", computer_choice, user_choice)\n",
    "    elif computer_choice == \"scissors\" and user_choice == \"rock\":\n",
    "        print(\"you win\", computer_choice, user_choice)\n",
    "    elif computer_choice == \"rock\" and user_choice == \"sicissors\":\n",
    "        print(\"you lost\", computer_choice, user_choice)\n",
    "    elif computer_choice == \"paper\" and user_choice == \"rock\":\n",
    "        print(\"you lost\", computer_choice, user_choice)\n",
    "    elif computer_choice == \"rock\" and user_choice == \"paper\":\n",
    "        print(\"you win\", computer_choice, user_choice)\n",
    "    elif computer_choice == \"scissors\" and user_choice == \"paper\":\n",
    "        print(\"you lost\", computer_choice, user_choice)\n",
    "    elif computer_choice == \"paper\" and user_choice == \"scissors\":\n",
    "        print(\"you win\", computer_choice, user_choice)\n",
    "\n",
    "main()"
   ]
  },
  {
   "cell_type": "code",
   "execution_count": 6,
   "id": "8d7e2abd",
   "metadata": {},
   "outputs": [
    {
     "name": "stdout",
     "output_type": "stream",
     "text": [
      "[100, 98, 96, 94, 92, 90, 88, 86, 84, 82, 80, 78, 76, 74, 72, 70, 68, 66, 64, 62, 60, 58, 56, 54, 52, 50, 48, 46, 44, 42, 40, 38, 36, 34, 32, 30, 28, 26, 24, 22, 20, 18, 16, 14, 12, 10, 8, 6, 4, 2]\n"
     ]
    }
   ],
   "source": [
    "print(list(range(100, 1, -2)))"
   ]
  },
  {
   "cell_type": "code",
   "execution_count": 3,
   "id": "96d1537e",
   "metadata": {},
   "outputs": [
    {
     "name": "stdout",
     "output_type": "stream",
     "text": [
      "[0, 1, 2, 3, 4, 5, 6, 7, 8, 9]\n"
     ]
    },
    {
     "data": {
      "text/plain": [
       "[None]"
      ]
     },
     "execution_count": 3,
     "metadata": {},
     "output_type": "execute_result"
    }
   ],
   "source": [
    "# range()\n",
    "[print(list(range(10)))]"
   ]
  },
  {
   "cell_type": "code",
   "execution_count": 8,
   "id": "5a65cc3f",
   "metadata": {},
   "outputs": [
    {
     "name": "stdout",
     "output_type": "stream",
     "text": [
      "a\n",
      "b\n",
      "c\n"
     ]
    }
   ],
   "source": [
    "# for\n",
    "for i in 'abc':\n",
    "    print(i)"
   ]
  },
  {
   "cell_type": "code",
   "execution_count": 8,
   "id": "65923599",
   "metadata": {},
   "outputs": [
    {
     "name": "stdout",
     "output_type": "stream",
     "text": [
      "0\n",
      "1\n",
      "2\n",
      "3\n",
      "4\n",
      "5\n",
      "6\n",
      "7\n",
      "8\n",
      "9\n"
     ]
    }
   ],
   "source": [
    "for i in range(10):\n",
    "    print(i)"
   ]
  },
  {
   "cell_type": "code",
   "execution_count": 16,
   "id": "9abda154",
   "metadata": {},
   "outputs": [
    {
     "name": "stdout",
     "output_type": "stream",
     "text": [
      "120\n"
     ]
    }
   ],
   "source": [
    "# calculate a factorial with a for loop\n",
    "\n",
    "# ask a user for a number\n",
    "# initailize a running product to 1\n",
    "# create a list with range -3!= n*n-1*n-2..1\n",
    "# start at the user number end at 1 and count down by 1\n",
    "# or I could start at 1 and count up by one until I get to the user number\n",
    "# reassign the running product to running product times (user number -1)\n",
    "# display product \n",
    "\n",
    "def main():\n",
    "    user_num = eval(input(\"enter a number \"))\n",
    "    running_product = 1\n",
    "    for num in range(1, user_num+1, 1):\n",
    "        running_product= running_product * num\n",
    "    print(running_product)\n",
    "main()\n",
    "    "
   ]
  },
  {
   "cell_type": "code",
   "execution_count": null,
   "id": "15748264",
   "metadata": {},
   "outputs": [],
   "source": [
    "# while\n",
    "a = int(input(\"enter a number: \"))\n",
    "while a >= 10:\n",
    "    print(a) # unless you put a signal to watch for this loop continues forever. "
   ]
  },
  {
   "cell_type": "code",
   "execution_count": null,
   "id": "6b83815d",
   "metadata": {},
   "outputs": [
    {
     "name": "stdout",
     "output_type": "stream",
     "text": [
      "factorial of 5 is 120\n"
     ]
    }
   ],
   "source": [
    "# calculate a factorial with a whle loop\n",
    "\n",
    "# ask a user for a number \n",
    "# intialize a running product to 1\n",
    "# initialize a counter to 1\n",
    "# while running counter is greater than 1\n",
    "# multiply running product by counter \n",
    "# decrease counter by 1\n",
    "# display running product \n",
    "\n",
    "\n",
    "def main():\n",
    "    user_num = eval(input(\"enter a number: \"))\n",
    "    running_product = 1\n",
    "    counter_n = 1\n",
    "    while counter_n <= user_num:\n",
    "        running_product = running_product * counter_n\n",
    "        counter_n = counter_n + 1\n",
    "    print(\"factorial of\", user_num, \"is\", running_product)\n",
    "main()\n"
   ]
  },
  {
   "cell_type": "code",
   "execution_count": null,
   "id": "dd711dc2",
   "metadata": {},
   "outputs": [
    {
     "name": "stdout",
     "output_type": "stream",
     "text": [
      "6\n",
      "6\n"
     ]
    }
   ],
   "source": [
    "# augmented assignment\n",
    "a = 5\n",
    "a = a + 1\n",
    "print(\"a is\", a)\n",
    "\n",
    "# is the same as\n",
    "b = 5\n",
    "b += 1\n",
    "print(\"b is\", b)"
   ]
  },
  {
   "cell_type": "markdown",
   "id": "6ce6ef14",
   "metadata": {},
   "source": [
    "# A sentinal is a special valure that signal the terminal of a loop\n"
   ]
  },
  {
   "cell_type": "code",
   "execution_count": 13,
   "id": "a07f5457",
   "metadata": {},
   "outputs": [
    {
     "name": "stdout",
     "output_type": "stream",
     "text": [
      "continued\n",
      "ended\n",
      "N\n"
     ]
    }
   ],
   "source": [
    "# sentinel control in a while loop\n",
    "go = \"Y\"\n",
    "while go == \"Y\":\n",
    "    print(\"continued\")\n",
    "    go = input(\"continue? Y or N\")\n",
    "print(\"ended\")\n",
    "print(go)"
   ]
  },
  {
   "cell_type": "code",
   "execution_count": null,
   "id": "75c93cfe",
   "metadata": {},
   "outputs": [
    {
     "name": "stdout",
     "output_type": "stream",
     "text": [
      "25\n",
      "20\n",
      "ended\n",
      "N\n"
     ]
    }
   ],
   "source": [
    "def main():\n",
    "   go = \"Y\"\n",
    "   while go == \"Y\":\n",
    "      num = eval(input(\"Enter a number\"))\n",
    "      result = num * 5\n",
    "      print(result)\n",
    "      go = input(\"continue? Y or N: \")\n",
    "   print(\"ended\")\n",
    "   print(go)  \n",
    "main()"
   ]
  },
  {
   "cell_type": "code",
   "execution_count": null,
   "id": "00d92fc3",
   "metadata": {},
   "outputs": [
    {
     "name": "stdout",
     "output_type": "stream",
     "text": [
      "5\n",
      "5 is odd\n"
     ]
    }
   ],
   "source": [
    "def main():\n",
    "     num = eval(input(\"enter a number: \"))\n",
    "     if num%2 == 0:\n",
    "         print(num)\n",
    "         print(num, \"is even\")\n",
    "     else:\n",
    "       print(num)\n",
    "       print(num,\"is odd\") \n",
    "main()"
   ]
  },
  {
   "cell_type": "code",
   "execution_count": 6,
   "id": "49ef5746",
   "metadata": {},
   "outputs": [
    {
     "name": "stdout",
     "output_type": "stream",
     "text": [
      "2\n",
      "2 is even\n",
      "4\n",
      "4 is even\n",
      "6\n",
      "6 is even\n",
      "8\n",
      "8 is even\n",
      "9 is odd\n"
     ]
    }
   ],
   "source": [
    "def main():\n",
    "    my_list = range(1,10)\n",
    "    for i in my_list:\n",
    "     if i % 2 == 0:\n",
    "        print(i)\n",
    "        print(i, \"is even\")\n",
    "    else:\n",
    "        print(i, \"is odd\")\n",
    "main()"
   ]
  },
  {
   "cell_type": "code",
   "execution_count": null,
   "id": "daf12652",
   "metadata": {},
   "outputs": [],
   "source": [
    "# top-down v bottom-up problem solving"
   ]
  },
  {
   "cell_type": "code",
   "execution_count": null,
   "id": "693354ec",
   "metadata": {},
   "outputs": [],
   "source": [
    "# complex conditionals"
   ]
  },
  {
   "cell_type": "code",
   "execution_count": null,
   "id": "3cba881d",
   "metadata": {},
   "outputs": [],
   "source": [
    "# break and continue"
   ]
  },
  {
   "cell_type": "markdown",
   "id": "2ee720da",
   "metadata": {},
   "source": [
    "# when you break you never continue to the next itteration or even go back up to the loop.\n",
    "# when you cotinue you skip a step and go to the next one. "
   ]
  },
  {
   "cell_type": "code",
   "execution_count": 22,
   "id": "f69386b1",
   "metadata": {},
   "outputs": [
    {
     "name": "stdout",
     "output_type": "stream",
     "text": [
      "15\n",
      "125\n"
     ]
    }
   ],
   "source": [
    "def main():\n",
    "    num1 = int(input(\"enter a first number: \"))\n",
    "    num2 = int(input(\"enter a second number: \"))\n",
    "    num3 = int(input(\"enetr a third number: \"))\n",
    "    sum_of_numbers = num1 + num2 + num3\n",
    "    product_of_numbers = num1 * num2 * num3\n",
    "    print(sum_of_numbers)\n",
    "    print(product_of_numbers)\n",
    "main()"
   ]
  },
  {
   "cell_type": "code",
   "execution_count": 12,
   "id": "223e6302",
   "metadata": {},
   "outputs": [],
   "source": [
    "def main():\n",
    "     num1 = int(input(\"enter a first number: \"))\n",
    "     num2 = int(input(\"enter a second number: \"))\n",
    "     num3 = int(input(\"enetr a third number: \"))\n",
    "     minimum = num1\n",
    "     if num2 < minimum:\n",
    "          minimum = num2 \n",
    "     elif num3 < minimum:\n",
    "          minimum = num3 \n",
    "     else:\n",
    "          minimum = 0\n",
    "main()"
   ]
  },
  {
   "cell_type": "code",
   "execution_count": 19,
   "id": "7a87a1bf",
   "metadata": {},
   "outputs": [
    {
     "data": {
      "text/plain": [
       "'def main():\\n    nlist = input(\"enter a number: \")\\n    sum = 0\\n    product = 1\\n    max = nlist first number\\n    min = nlist first number \\n    for item in nlist:\\n        sum+=item \\n        prodcut*=item\\n        if item > max:\\n            max = item\\n        elif item <min:\\n            min=item\\n        else:\\n            continue\\n    print(everything)\\nmian()'"
      ]
     },
     "execution_count": 19,
     "metadata": {},
     "output_type": "execute_result"
    }
   ],
   "source": [
    "'''def main():\n",
    "    nlist = input(\"enter a number: \")\n",
    "    sum = 0\n",
    "    product = 1\n",
    "    max = nlist first number\n",
    "    min = nlist first number \n",
    "    for item in nlist:\n",
    "        sum+=item \n",
    "        prodcut*=item\n",
    "        if item > max:\n",
    "            max = item\n",
    "        elif item <min:\n",
    "            min=item\n",
    "        else:\n",
    "            continue\n",
    "    print(everything)\n",
    "mian()'''"
   ]
  },
  {
   "cell_type": "code",
   "execution_count": null,
   "id": "69509947",
   "metadata": {},
   "outputs": [
    {
     "ename": "NameError",
     "evalue": "name 'num_digit' is not defined",
     "output_type": "error",
     "traceback": [
      "\u001b[31m---------------------------------------------------------------------------\u001b[39m",
      "\u001b[31mNameError\u001b[39m                                 Traceback (most recent call last)",
      "\u001b[36mCell\u001b[39m\u001b[36m \u001b[39m\u001b[32mIn[23]\u001b[39m\u001b[32m, line 12\u001b[39m\n\u001b[32m     10\u001b[39m             count+=\u001b[32m1\u001b[39m\n\u001b[32m     11\u001b[39m     \u001b[38;5;28mprint\u001b[39m(pi)\n\u001b[32m---> \u001b[39m\u001b[32m12\u001b[39m \u001b[43mmain\u001b[49m\u001b[43m(\u001b[49m\u001b[43m)\u001b[49m\n",
      "\u001b[36mCell\u001b[39m\u001b[36m \u001b[39m\u001b[32mIn[23]\u001b[39m\u001b[32m, line 5\u001b[39m, in \u001b[36mmain\u001b[39m\u001b[34m()\u001b[39m\n\u001b[32m      3\u001b[39m pi = \u001b[32m4\u001b[39m\n\u001b[32m      4\u001b[39m count = \u001b[32m1\u001b[39m\n\u001b[32m----> \u001b[39m\u001b[32m5\u001b[39m \u001b[38;5;28;01mfor\u001b[39;00m i \u001b[38;5;129;01min\u001b[39;00m \u001b[38;5;28mrange\u001b[39m(\u001b[32m3\u001b[39m,\u001b[43mnum_digit\u001b[49m+\u001b[32m1\u001b[39m,-\u001b[32m2\u001b[39m):\n\u001b[32m      6\u001b[39m     \u001b[38;5;28;01mif\u001b[39;00m count % \u001b[32m2\u001b[39m == \u001b[32m1\u001b[39m:\n\u001b[32m      7\u001b[39m         pi = pi - \u001b[32m4\u001b[39m/i\n",
      "\u001b[31mNameError\u001b[39m: name 'num_digit' is not defined"
     ]
    }
   ],
   "source": [
    "def main():\n",
    "    num_iterations = int(input(\"enter number of iterations: \"))\n",
    "    pi = 4\n",
    "    count = 1\n",
    "    for i in range(3,num_digit+1,-2):\n",
    "        if count % 2 == 1:\n",
    "            pi = pi - 4/i\n",
    "        else:\n",
    "            pi = pi = pi + 4/i\n",
    "            count+=1\n",
    "    print(pi)\n",
    "\n",
    "    # calculations of pi, you give it number of itterations and then the code give you the output "
   ]
  },
  {
   "cell_type": "code",
   "execution_count": 17,
   "id": "907e8d65",
   "metadata": {},
   "outputs": [
    {
     "name": "stdout",
     "output_type": "stream",
     "text": [
      "2.666666666666667\n"
     ]
    }
   ],
   "source": [
    "def main():\n",
    "    num_iterations = int(input(\"enter number of iterations: \"))\n",
    "    pi = 4\n",
    "    count = 1 \n",
    "    for i in range(3, num_iterations*2, 2):\n",
    "        if count % 2 == 1:\n",
    "            pi= pi - 4/i\n",
    "        else:\n",
    "            pi= pi + 4/i\n",
    "        count = count + 1\n",
    "    print(pi)\n",
    "main()\t"
   ]
  },
  {
   "cell_type": "code",
   "execution_count": 24,
   "id": "1337c9d6",
   "metadata": {},
   "outputs": [
    {
     "name": "stdout",
     "output_type": "stream",
     "text": [
      "6 4 2 0 -2 "
     ]
    }
   ],
   "source": [
    "for i in range(6, -4, -2):\n",
    "    print(i, end=\" \")"
   ]
  },
  {
   "cell_type": "code",
   "execution_count": 31,
   "id": "2c206733",
   "metadata": {},
   "outputs": [
    {
     "name": "stdout",
     "output_type": "stream",
     "text": [
      "0\n",
      "1\n",
      "2\n",
      "3\n",
      "4\n",
      "5\n",
      "6\n",
      "7\n",
      "8\n",
      "9\n",
      "10\n",
      "11\n"
     ]
    }
   ],
   "source": [
    "def main():\n",
    "   a = 12 \n",
    "   for i in range(a): \n",
    "     print(i)\n",
    "main()"
   ]
  }
 ],
 "metadata": {
  "kernelspec": {
   "display_name": "Python 3",
   "language": "python",
   "name": "python3"
  },
  "language_info": {
   "codemirror_mode": {
    "name": "ipython",
    "version": 3
   },
   "file_extension": ".py",
   "mimetype": "text/x-python",
   "name": "python",
   "nbconvert_exporter": "python",
   "pygments_lexer": "ipython3",
   "version": "3.13.7"
  }
 },
 "nbformat": 4,
 "nbformat_minor": 5
}
