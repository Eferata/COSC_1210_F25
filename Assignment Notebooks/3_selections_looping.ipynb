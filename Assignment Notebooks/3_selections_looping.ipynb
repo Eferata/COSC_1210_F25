{
 "cells": [
  {
   "cell_type": "markdown",
   "id": "6bd64481",
   "metadata": {},
   "source": [
    "#### Selections and Looping"
   ]
  },
  {
   "cell_type": "markdown",
   "id": "24bc17b6",
   "metadata": {},
   "source": [
    "Objectives\n",
    "- decide whether to execute actions with if, if..elif..else, and if..else\n",
    "- execute statements repeatedly with for and while\n",
    "- use augmented assignment\n",
    "- use the range function and its parameters\n",
    "- perform sentinel control in a while loop\n",
    "- distinguish top-down and bottom-up problem solving\n",
    "- create complex conditionals\n",
    "- stop looping with break and force next iteration with continue"
   ]
  },
  {
   "cell_type": "raw",
   "id": "69301c8f",
   "metadata": {
    "vscode": {
     "languageId": "raw"
    }
   },
   "source": [
    "if, if/else, if/elif/else\n",
    "\n",
    "Selections in python\n",
    "if <conditional>:\n",
    "    statement\n",
    "else: \n",
    "    statement\n",
    "\n",
    "if <conditional>:\n",
    "    statement\n",
    "elif <conditional>:\n",
    "    statement\n",
    "elif <conditional>\"\n",
    "    statement\n",
    "else:\n",
    "    statement\n"
   ]
  },
  {
   "cell_type": "code",
   "execution_count": 2,
   "id": "c8cae2fa",
   "metadata": {},
   "outputs": [
    {
     "name": "stdout",
     "output_type": "stream",
     "text": [
      "A\n"
     ]
    }
   ],
   "source": [
    "# if, if/else, if/elif/else\n",
    "def main():\n",
    "    '''ask use for a grade and provide the letter grade that is associated'''\n",
    "    grade = eval(input(\"enter the student grade\"))\n",
    "    if grade >= 90:\n",
    "        print(\"A\")\n",
    "main()\n",
    "    "
   ]
  },
  {
   "cell_type": "code",
   "execution_count": null,
   "id": "a5bb9098",
   "metadata": {},
   "outputs": [
    {
     "name": "stdout",
     "output_type": "stream",
     "text": [
      "rock\n",
      "you win rock paper\n"
     ]
    }
   ],
   "source": [
    "# write a program that determines the result of a rock paper scissors game\n",
    "# use the random_throw() function to get a random choice of rock paper scissors from the computer\n",
    "# \n",
    "import random as rand\n",
    "\n",
    "def random_throw():\n",
    "    '''selects a random item from rock, paper, scissors\n",
    "    returns string to user''' \n",
    "    choices = ['rock', 'paper', 'scissors']\n",
    "    return rand.choice(choices)\n",
    "\n",
    "print(random_throw()) # successful test random_throw()\n",
    "\n",
    "# so the above code is a library called random which allows the computer to randomly choose among the choices it was given. \n",
    "\n",
    "def main():\n",
    "    '''rock paper scissors'''\n",
    "    computer_choice = random_throw()\n",
    "    user_choice = input(\"enetr rock paper or scissors\")\n",
    "    if computer_choice == user_choice:\n",
    "        print(\"tie tou both chose\", computer_choice, user_choice)\n",
    "    elif computer_choice == \"scissors\" and user_choice == \"rock\":\n",
    "        print(\"you win\", computer_choice, user_choice)\n",
    "    elif computer_choice == \"rock\" and user_choice == \"sicissors\":\n",
    "        print(\"you lost\", computer_choice, user_choice)\n",
    "    elif computer_choice == \"paper\" and user_choice == \"rock\":\n",
    "        print(\"you lost\", computer_choice, user_choice)\n",
    "    elif computer_choice == \"rock\" and user_choice == \"paper\":\n",
    "        print(\"you win\", computer_choice, user_choice)\n",
    "    elif computer_choice == \"scissors\" and user_choice == \"paper\":\n",
    "        print(\"you lost\", computer_choice, user_choice)\n",
    "    elif computer_choice == \"paper\" and user_choice == \"scissors\":\n",
    "        print(\"you win\", computer_choice, user_choice)\n",
    "\n",
    "main()"
   ]
  },
  {
   "cell_type": "code",
   "execution_count": 6,
   "id": "8d7e2abd",
   "metadata": {},
   "outputs": [
    {
     "name": "stdout",
     "output_type": "stream",
     "text": [
      "[100, 98, 96, 94, 92, 90, 88, 86, 84, 82, 80, 78, 76, 74, 72, 70, 68, 66, 64, 62, 60, 58, 56, 54, 52, 50, 48, 46, 44, 42, 40, 38, 36, 34, 32, 30, 28, 26, 24, 22, 20, 18, 16, 14, 12, 10, 8, 6, 4, 2]\n"
     ]
    }
   ],
   "source": [
    "print(list(range(100, 1, -2)))"
   ]
  },
  {
   "cell_type": "code",
   "execution_count": 4,
   "id": "96d1537e",
   "metadata": {},
   "outputs": [
    {
     "name": "stdout",
     "output_type": "stream",
     "text": [
      "[0, 1, 2, 3, 4, 5, 6, 7, 8, 9]\n"
     ]
    },
    {
     "data": {
      "text/plain": [
       "[None]"
      ]
     },
     "execution_count": 4,
     "metadata": {},
     "output_type": "execute_result"
    }
   ],
   "source": [
    "# range()\n",
    "[print(list(range(10)))]"
   ]
  },
  {
   "cell_type": "code",
   "execution_count": 7,
   "id": "5a65cc3f",
   "metadata": {},
   "outputs": [
    {
     "name": "stdout",
     "output_type": "stream",
     "text": [
      "a\n",
      "b\n",
      "c\n"
     ]
    }
   ],
   "source": [
    "# for\n",
    "for i in 'abc':\n",
    "    print(i)"
   ]
  },
  {
   "cell_type": "code",
   "execution_count": 8,
   "id": "65923599",
   "metadata": {},
   "outputs": [
    {
     "name": "stdout",
     "output_type": "stream",
     "text": [
      "0\n",
      "1\n",
      "2\n",
      "3\n",
      "4\n",
      "5\n",
      "6\n",
      "7\n",
      "8\n",
      "9\n"
     ]
    }
   ],
   "source": [
    "for i in range(10):\n",
    "    print(i)"
   ]
  },
  {
   "cell_type": "code",
   "execution_count": 16,
   "id": "9abda154",
   "metadata": {},
   "outputs": [
    {
     "name": "stdout",
     "output_type": "stream",
     "text": [
      "120\n"
     ]
    }
   ],
   "source": [
    "# calculate a factorial with a for loop\n",
    "\n",
    "# ask a user for a number\n",
    "# initailize a running product to 1\n",
    "# create a list with range -3!= n*n-1*n-2..1\n",
    "# start at the user number end at 1 and count down by 1\n",
    "# or I could start at 1 and count up by one until I get to the user number\n",
    "# reassign the running product to running product times (user number -1)\n",
    "# display product \n",
    "\n",
    "def main():\n",
    "    user_num = eval(input(\"enter a number \"))\n",
    "    running_product = 1\n",
    "    for num in range(1, user_num+1, 1):\n",
    "        running_product= running_product * num\n",
    "    print(running_product)\n",
    "main()\n",
    "    "
   ]
  },
  {
   "cell_type": "code",
   "execution_count": null,
   "id": "03610044",
   "metadata": {},
   "outputs": [],
   "source": [
    "# while\n",
    "a = int(input(\"enter a number: \"))\n",
    "while a >= 10:\n",
    "    print(a) # unless you put a signal to watch for this loop continues forever. \n",
    "\n",
    "    "
   ]
  },
  {
   "cell_type": "code",
   "execution_count": null,
   "id": "6b83815d",
   "metadata": {},
   "outputs": [
    {
     "name": "stdout",
     "output_type": "stream",
     "text": [
      "factorial of 5 is 120\n"
     ]
    }
   ],
   "source": [
    "# calculate a factorial with a whle loop\n",
    "\n",
    "# ask a user for a number \n",
    "# intialize a running product to 1\n",
    "# initialize a counter to 1\n",
    "# while running counter is greater than 1\n",
    "# multiply running product by counter \n",
    "# decrease counter by 1\n",
    "# display running product \n",
    "\n",
    "\n",
    "def main():\n",
    "    user_num = eval(input(\"enter a number: \"))\n",
    "    running_product = 1\n",
    "    counter_n = 1\n",
    "    while counter_n <= user_num:\n",
    "        running_product = running_product * counter_n\n",
    "        counter_n = counter_n + 1\n",
    "    print(\"factorial of\", user_num, \"is\", running_product)\n",
    "main()\n",
    "    "
   ]
  },
  {
   "cell_type": "code",
   "execution_count": null,
   "id": "dd711dc2",
   "metadata": {},
   "outputs": [
    {
     "name": "stdout",
     "output_type": "stream",
     "text": [
      "6\n",
      "6\n"
     ]
    }
   ],
   "source": [
    "# augmented assignment\n",
    "a = 5\n",
    "a = a + 1\n",
    "print(\"a is\", a)\n",
    "\n",
    "# is the same as\n",
    "b = 5\n",
    "b += 1\n",
    "print(\"b is\", b)"
   ]
  },
  {
   "cell_type": "code",
   "execution_count": null,
   "id": "a07f5457",
   "metadata": {},
   "outputs": [],
   "source": [
    "# sentinel control in a while loop"
   ]
  },
  {
   "cell_type": "code",
   "execution_count": null,
   "id": "daf12652",
   "metadata": {},
   "outputs": [],
   "source": [
    "# top-down v bottom-up problem solving"
   ]
  },
  {
   "cell_type": "code",
   "execution_count": null,
   "id": "693354ec",
   "metadata": {},
   "outputs": [],
   "source": [
    "# complex conditionals"
   ]
  },
  {
   "cell_type": "code",
   "execution_count": null,
   "id": "3cba881d",
   "metadata": {},
   "outputs": [],
   "source": [
    "# break and continue"
   ]
  }
 ],
 "metadata": {
  "kernelspec": {
   "display_name": "Python 3",
   "language": "python",
   "name": "python3"
  },
  "language_info": {
   "codemirror_mode": {
    "name": "ipython",
    "version": 3
   },
   "file_extension": ".py",
   "mimetype": "text/x-python",
   "name": "python",
   "nbconvert_exporter": "python",
   "pygments_lexer": "ipython3",
   "version": "3.13.7"
  }
 },
 "nbformat": 4,
 "nbformat_minor": 5
}
