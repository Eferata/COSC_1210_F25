{
 "cells": [
  {
   "cell_type": "markdown",
   "id": "9e39443c",
   "metadata": {},
   "source": [
    "## COSC 1210\n",
    "### In depth lists\n",
    "\n",
    "In this notebook, we will cover\n",
    "- basic list operations\n",
    "- indexing and slicing\n",
    "- creating a list from an iterable with augmented assignment\n",
    "- passing lists to functions\n",
    "- list methods\n"
   ]
  },
  {
   "cell_type": "markdown",
   "id": "b96191d2",
   "metadata": {},
   "source": [
    "To review what we learned in the data types overview..."
   ]
  },
  {
   "cell_type": "code",
   "execution_count": null,
   "id": "5d0f7d91",
   "metadata": {},
   "outputs": [
    {
     "data": {
      "text/plain": [
       "4"
      ]
     },
     "execution_count": 43,
     "metadata": {},
     "output_type": "execute_result"
    }
   ],
   "source": [
    "# this is a list - heterogeneous, mutable, and iterable\n",
    "alist = [1,'t',[66,3],None]"
   ]
  },
  {
   "cell_type": "code",
   "execution_count": 40,
   "id": "063839d9",
   "metadata": {},
   "outputs": [
    {
     "data": {
      "text/plain": [
       "'t'"
      ]
     },
     "execution_count": 40,
     "metadata": {},
     "output_type": "execute_result"
    }
   ],
   "source": [
    "# accessing items with indexing\n",
    "alist[1]"
   ]
  },
  {
   "cell_type": "code",
   "execution_count": 41,
   "id": "777f7387",
   "metadata": {},
   "outputs": [
    {
     "name": "stdout",
     "output_type": "stream",
     "text": [
      "1\n",
      "t\n",
      "[66, 3]\n",
      "None\n"
     ]
    }
   ],
   "source": [
    "# iterating\n",
    "for item in alist:\n",
    "    print(item)"
   ]
  },
  {
   "cell_type": "code",
   "execution_count": 42,
   "id": "ed31169a",
   "metadata": {},
   "outputs": [
    {
     "name": "stdout",
     "output_type": "stream",
     "text": [
      "the length of the original list is  4\n",
      "doubled, the list is  8\n"
     ]
    }
   ],
   "source": [
    "# len() gets length of list\n",
    "print(\"the length of the original list is \", len(alist))\n",
    "\n",
    "blist = alist + alist  # you can concatenate two lists together\n",
    "print(\"doubled, the list is \", len(blist))\n"
   ]
  },
  {
   "cell_type": "code",
   "execution_count": 46,
   "id": "8ab22724",
   "metadata": {},
   "outputs": [
    {
     "name": "stdout",
     "output_type": "stream",
     "text": [
      "-47\n"
     ]
    }
   ],
   "source": [
    "# if we want to get the first item in this list...\n",
    "a = [-47, 76, 80, 50, 72, 111, -10]\n",
    "\n",
    "# We would use the element's index .. that is, the number of the item starting with 0\n",
    "# surrounded by square brackets\n",
    "print(a[0]) "
   ]
  },
  {
   "cell_type": "code",
   "execution_count": 47,
   "id": "b8734e68",
   "metadata": {},
   "outputs": [
    {
     "name": "stdout",
     "output_type": "stream",
     "text": [
      "72\n"
     ]
    }
   ],
   "source": [
    "# for the index 4 (or 5th element in the list)\n",
    "print(a[4])"
   ]
  },
  {
   "cell_type": "code",
   "execution_count": null,
   "id": "112aa04e",
   "metadata": {},
   "outputs": [
    {
     "name": "stdout",
     "output_type": "stream",
     "text": [
      "[7, 8, 9] : is the 2nd index\n",
      "9 : is the 2nd index of second index\n",
      "[6]\n"
     ]
    }
   ],
   "source": [
    "# We can access items within a list if that item is an iterable\n",
    "list_of_lists = [[1,2,3], [4,5,6], [7,8,9], [10,11,12]]\n",
    "\n",
    "print(list_of_lists[2], \": is the 2nd index\")\n",
    "print(list_of_lists[2][2], \": is the 2nd index of second index\")"
   ]
  },
  {
   "cell_type": "markdown",
   "id": "6de0b7cb",
   "metadata": {},
   "source": []
  },
  {
   "cell_type": "markdown",
   "id": "50f48a19",
   "metadata": {},
   "source": [
    "### Slicing\n",
    "\n",
    "If we only want a portion of a list, we can use slicing\n",
    "\n",
    "Get a portion of the list with slicing\n",
    "\n",
    "the_list[start:end]\n",
    "- start is the number of the index\n",
    "- end upto but including the end"
   ]
  },
  {
   "cell_type": "code",
   "execution_count": 5,
   "id": "be8af1dc",
   "metadata": {},
   "outputs": [
    {
     "data": {
      "text/plain": [
       "[6, 7, 8]"
      ]
     },
     "execution_count": 5,
     "metadata": {},
     "output_type": "execute_result"
    }
   ],
   "source": [
    "the_list = [0,1,2,3,4,5,6,7,8]\n",
    "\n",
    "the_list[1:7]\n",
    "the_list[-3:]\n"
   ]
  },
  {
   "cell_type": "code",
   "execution_count": 64,
   "id": "987a13d7",
   "metadata": {},
   "outputs": [
    {
     "name": "stdout",
     "output_type": "stream",
     "text": [
      "['p', 'y', 't', 'h', 'o', 'n', ' ', '!']\n"
     ]
    }
   ],
   "source": [
    "# you can make any iterable into a list\n",
    "new_list = []\n",
    "new_list += \"python !\"\n",
    "print(new_list)"
   ]
  },
  {
   "cell_type": "markdown",
   "id": "772a10e2",
   "metadata": {},
   "source": [
    "### Pause \n",
    "Start with the string \"Python is cool!\". Make it into a list and slice the list so that it just says \"is cool\""
   ]
  },
  {
   "cell_type": "code",
   "execution_count": null,
   "id": "1d7886f7",
   "metadata": {},
   "outputs": [
    {
     "data": {
      "text/plain": [
       "10"
      ]
     },
     "execution_count": 66,
     "metadata": {},
     "output_type": "execute_result"
    }
   ],
   "source": [
    "new_list = []\n",
    "new_list +=\"python is cool!\"\n",
    "new_list[10:]\n"
   ]
  },
  {
   "cell_type": "markdown",
   "id": "461e5520",
   "metadata": {},
   "source": [
    "# Lists and function\n",
    "- a list is a single object, so when it is passed in, it only requires a single parameter value"
   ]
  },
  {
   "cell_type": "code",
   "execution_count": 58,
   "id": "fc2aadf2",
   "metadata": {},
   "outputs": [
    {
     "name": "stdout",
     "output_type": "stream",
     "text": [
      "[20, 6, 14, 2, 18]\n"
     ]
    }
   ],
   "source": [
    "def modify_elements(items):\n",
    "    '''Multyply all elements in a list by 2'''\n",
    "    new_list = []\n",
    "    for j in items:\n",
    "        new_list.append(j*2)\n",
    "    return new_list\n",
    "\n",
    "    # for i in range(len(items)):\n",
    "    #     items[i] *= 2\n",
    "    #     # or \n",
    "    #     #items[i] = item[i] * 2\n",
    "    # return items\n",
    "        \n",
    "        \n",
    "numbers = [10,3,7,1,9]\n",
    "# numbers = modify_elements(numbers)\n",
    "\n",
    "modify_elements(numbers)\n",
    "\n",
    "print(modify_elements(numbers))"
   ]
  },
  {
   "cell_type": "markdown",
   "id": "fa54a505",
   "metadata": {},
   "source": [
    "### List methods\n",
    "##### Try these list methods\n",
    "\n",
    "- a_list.sort()\n",
    "- a_list.index(value)\n",
    "- a_list.insert(index,value)\n",
    "- a_list.append(value)\n",
    "- a_list.remove(value)\n",
    "- a_list.clear()\n",
    "- a_list.count(value)\n",
    "- a_list.reverse()"
   ]
  },
  {
   "cell_type": "code",
   "execution_count": 59,
   "id": "ff64582b",
   "metadata": {},
   "outputs": [
    {
     "name": "stdout",
     "output_type": "stream",
     "text": [
      "[3, 4, 5, 6]\n"
     ]
    }
   ],
   "source": [
    "# .sort() modifies the original list without explicit reassignment\n",
    "a_list = [5,6,4,3]\n",
    "a_list.sort()\n",
    "print(a_list)      "
   ]
  },
  {
   "cell_type": "code",
   "execution_count": 60,
   "id": "d1129ffc",
   "metadata": {},
   "outputs": [
    {
     "name": "stdout",
     "output_type": "stream",
     "text": [
      "[3, 4, 5, 6]\n",
      "[5, 6, 4, 3]\n"
     ]
    }
   ],
   "source": [
    "# here's another way to do it\n",
    "a_list = [5,6,4,3]\n",
    "sorted_list = sorted(a_list)\n",
    "print(sorted_list)  \n",
    "print(a_list)       "
   ]
  },
  {
   "cell_type": "code",
   "execution_count": 61,
   "id": "be0fb4f2",
   "metadata": {},
   "outputs": [
    {
     "data": {
      "text/plain": [
       "3"
      ]
     },
     "execution_count": 61,
     "metadata": {},
     "output_type": "execute_result"
    }
   ],
   "source": [
    "# searching sequences by the number you are searching for with .index(value)\n",
    "a = [-47, 76, 80, 50, 72, 111, -10]\n",
    "a.index(50) "
   ]
  },
  {
   "cell_type": "code",
   "execution_count": 69,
   "id": "49c838cd",
   "metadata": {},
   "outputs": [
    {
     "name": "stdout",
     "output_type": "stream",
     "text": [
      "[-47, 76, 80, 100, 200, 50, 72, 111, -10]\n"
     ]
    }
   ],
   "source": [
    "# .insert(index, value)\n",
    "a = [-47, 76, 80, 50, 72, 111, -10]\n",
    "a.insert(3,100)\n",
    "a.insert(4,200)\n",
    "print(a)"
   ]
  },
  {
   "cell_type": "code",
   "execution_count": 71,
   "id": "aeb7bc93",
   "metadata": {},
   "outputs": [
    {
     "name": "stdout",
     "output_type": "stream",
     "text": [
      "[-47, 76, 80, 50, 72, 111, -10, 100]\n"
     ]
    }
   ],
   "source": [
    "# .append('value')\n",
    "a = [-47, 76, 80, 50, 72, 111, -10]\n",
    "a.append(100)\n",
    "print(a)"
   ]
  },
  {
   "cell_type": "markdown",
   "id": "399ebb70",
   "metadata": {},
   "source": [
    "##### Now, test out the remaining list methods \n",
    "- a_list.remove(value)\n",
    "- a_list.clear()\n",
    "- a_list.count(value)\n",
    "- a_list.reverse()"
   ]
  },
  {
   "cell_type": "code",
   "execution_count": 6,
   "id": "7ba16865",
   "metadata": {},
   "outputs": [
    {
     "name": "stdout",
     "output_type": "stream",
     "text": [
      "[5, 4, 3]\n"
     ]
    }
   ],
   "source": [
    "a_list = [5,6,4,3]\n",
    "a_list.remove(6)\n",
    "print(a_list)"
   ]
  },
  {
   "cell_type": "code",
   "execution_count": 7,
   "id": "346b6e7b",
   "metadata": {},
   "outputs": [
    {
     "name": "stdout",
     "output_type": "stream",
     "text": [
      "[]\n"
     ]
    }
   ],
   "source": [
    "a_list = [5,6,4,3]\n",
    "a_list.clear()\n",
    "print(a_list)"
   ]
  },
  {
   "cell_type": "code",
   "execution_count": 11,
   "id": "0d49cfd5",
   "metadata": {},
   "outputs": [
    {
     "data": {
      "text/plain": [
       "5"
      ]
     },
     "execution_count": 11,
     "metadata": {},
     "output_type": "execute_result"
    }
   ],
   "source": [
    "a_list = [5,6,4,3,8,8,8,8,8]\n",
    "a_list.count(8)"
   ]
  },
  {
   "cell_type": "code",
   "execution_count": 13,
   "id": "d263f9e5",
   "metadata": {},
   "outputs": [
    {
     "name": "stdout",
     "output_type": "stream",
     "text": [
      "[3, 4, 6, 5]\n"
     ]
    }
   ],
   "source": [
    "a_list = [5,6,4,3]\n",
    "a_list.reverse()\n",
    "print(a_list)"
   ]
  },
  {
   "cell_type": "markdown",
   "id": "94709a43",
   "metadata": {},
   "source": [
    "### Working with lists and maps in pygame\n",
    "\n",
    "You want to make a map in pygame and you depict it as a 4x4 grid with 1 is a path and 0 is a blocked area of the map\n",
    "\n",
    "- You want to create a rectangle object in pygame for each blocked area\n",
    "- The syntax for creating a rectangle for pygame is\n",
    "    - rect_x and rect_y are the coordinates of the top left corner of the rectangle\n",
    "    - pygame.Rect(rect_x, rect_y, rect_width, rect_height)\n"
   ]
  },
  {
   "cell_type": "code",
   "execution_count": 72,
   "id": "64f2f9df",
   "metadata": {},
   "outputs": [
    {
     "name": "stdout",
     "output_type": "stream",
     "text": [
      "[[0, 1, 0, 0], [0, 1, 1, 0], [1, 1, 1, 0], [1, 1, 0, 0]]\n"
     ]
    }
   ],
   "source": [
    "# Here is the map of open paths (1), and blocked areas (0)\n",
    "my_map =[\\\n",
    "    [0,1,0,0],\n",
    "    [0,1,1,0],\n",
    "    [1,1,1,0],\n",
    "    [1,1,0,0]\\\n",
    "        ]\n",
    "print(my_map)\n",
    "\n",
    "# Here are the x,y coordinates for the map to make rectangles\n",
    "# note, these are squares\n",
    "map_coords = [\\\n",
    "    [(0,0), (100,0), (200,0), (300,0)],\n",
    "    [(0,100), (100,100), (200,100), (300,100)],\n",
    "    [(0,200), (100,200), (200,200), (300,200)],\n",
    "    [(0,300), (100,300), (200,300), (300,300)],\n",
    "    ]\n"
   ]
  },
  {
   "cell_type": "code",
   "execution_count": null,
   "id": "85d5731d",
   "metadata": {},
   "outputs": [],
   "source": [
    "# Create a function that takes in these lists and returns a list of pygame rectangle objects \n",
    "# That correspond to squares that are blocked\n",
    "# You can decide the length and width\n",
    "\n"
   ]
  },
  {
   "cell_type": "code",
   "execution_count": 73,
   "id": "b116b9f1",
   "metadata": {},
   "outputs": [
    {
     "name": "stdout",
     "output_type": "stream",
     "text": [
      "[[0, 1, 0, 0], [0, 1, 1, 0], [1, 1, 1, 0], [1, 1, 0, 0]]\n",
      "[<rect(0, 0, 100, 100)>, <rect(200, 0, 100, 100)>, <rect(300, 0, 100, 100)>, <rect(0, 100, 100, 100)>, <rect(300, 100, 100, 100)>, <rect(300, 200, 100, 100)>, <rect(200, 300, 100, 100)>, <rect(300, 300, 100, 100)>]\n"
     ]
    }
   ],
   "source": [
    "import pygame\n",
    "\n",
    "# Here is the map of open paths (1), and blocked areas (0)\n",
    "my_map =[\\\n",
    "    [0,1,0,0],\n",
    "    [0,1,1,0],\n",
    "    [1,1,1,0],\n",
    "    [1,1,0,0]\\\n",
    "        ]\n",
    "print(my_map)\n",
    "\n",
    "# Here are the x,y coordinates for the map to make rectangles\n",
    "# note, these are squares\n",
    "map_coords = [\\\n",
    "    [(0,0), (100,0), (200,0), (300,0)],\n",
    "    [(0,100), (100,100), (200,100), (300,100)],\n",
    "    [(0,200), (100,200), (200,200), (300,200)],\n",
    "    [(0,300), (100,300), (200,300), (300,300)],\n",
    "    ]\n",
    "\n",
    "def create_blocked_rects(my_map, my_coords):\n",
    "    blocked_rects = []\n",
    "    for row in range(len(my_map)):\n",
    "        for col in range(len(my_map[row])):\n",
    "            if my_map[row][col] == 0:\n",
    "                x, y = map_coords[row][col]\n",
    "                rect = pygame.Rect(x, y, 100, 100)\n",
    "                blocked_rects.append(rect)\n",
    "    return blocked_rects\n",
    "pygame.init()\n",
    "blocked = create_blocked_rects(my_map, map_coords)\n",
    "print(blocked)\n"
   ]
  }
 ],
 "metadata": {
  "kernelspec": {
   "display_name": "Python 3",
   "language": "python",
   "name": "python3"
  },
  "language_info": {
   "codemirror_mode": {
    "name": "ipython",
    "version": 3
   },
   "file_extension": ".py",
   "mimetype": "text/x-python",
   "name": "python",
   "nbconvert_exporter": "python",
   "pygments_lexer": "ipython3",
   "version": "3.13.2"
  }
 },
 "nbformat": 4,
 "nbformat_minor": 5
}
